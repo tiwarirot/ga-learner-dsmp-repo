{
 "cells": [
  {
   "cell_type": "code",
   "execution_count": 10,
   "metadata": {},
   "outputs": [],
   "source": [
    "import pandas as pd\n",
    "import requests\n",
    "import urllib3\n",
    "import re\n",
    "from bs4 import BeautifulSoup"
   ]
  },
  {
   "cell_type": "code",
   "execution_count": 11,
   "metadata": {},
   "outputs": [],
   "source": [
    "url = 'https://en.wikipedia.org/wiki/Economy_of_the_European_Union'"
   ]
  },
  {
   "cell_type": "code",
   "execution_count": 12,
   "metadata": {},
   "outputs": [],
   "source": [
    "proxies = {}"
   ]
  },
  {
   "cell_type": "code",
   "execution_count": 13,
   "metadata": {},
   "outputs": [],
   "source": [
    "response = requests.get(url, proxies=proxies)"
   ]
  },
  {
   "cell_type": "code",
   "execution_count": 14,
   "metadata": {},
   "outputs": [],
   "source": [
    "page_html = response.text"
   ]
  },
  {
   "cell_type": "code",
   "execution_count": 16,
   "metadata": {},
   "outputs": [],
   "source": [
    "page_soup=BeautifulSoup(page_html, \"html.parser\")"
   ]
  },
  {
   "cell_type": "code",
   "execution_count": 19,
   "metadata": {},
   "outputs": [],
   "source": [
    "tables = page_soup.find_all(\"table\", {\"class\":\"wikitable\"})"
   ]
  },
  {
   "cell_type": "code",
   "execution_count": 21,
   "metadata": {},
   "outputs": [
    {
     "name": "stdout",
     "output_type": "stream",
     "text": [
      "Number of tables= 17\n"
     ]
    }
   ],
   "source": [
    "print(\"Number of tables= \" +str(len(tables)))"
   ]
  },
  {
   "cell_type": "code",
   "execution_count": 23,
   "metadata": {},
   "outputs": [],
   "source": [
    "table_1 = tables[0]"
   ]
  },
  {
   "cell_type": "code",
   "execution_count": 24,
   "metadata": {},
   "outputs": [],
   "source": [
    "rows=table_1.findAll(\"tr\")\n",
    "row_lengths=[len(r.findAll(['th','td'])) for r in rows]\n",
    "ncols=max(row_lengths)\n",
    "nrows=len(rows)\n",
    "\n",
    "data=[]\n",
    "for i in range(nrows):\n",
    "    rowD=[]\n",
    "    for j in range(ncols):\n",
    "        rowD.append('')\n",
    "    data.append(rowD)"
   ]
  },
  {
   "cell_type": "code",
   "execution_count": 26,
   "metadata": {},
   "outputs": [
    {
     "name": "stdout",
     "output_type": "stream",
     "text": [
      "11\n",
      "8\n"
     ]
    }
   ],
   "source": [
    "print(len(data))\n",
    "print(len(data[0]))"
   ]
  },
  {
   "cell_type": "code",
   "execution_count": 27,
   "metadata": {},
   "outputs": [],
   "source": [
    "for i in range(len(rows)):\n",
    "    row=rows[i]\n",
    "    cells = row.findAll([\"td\",\"th\"])\n",
    "    for j in range(len(cells)):\n",
    "        cell=cells[j]\n",
    "        data[i][j]+=cell.text"
   ]
  },
  {
   "cell_type": "code",
   "execution_count": 28,
   "metadata": {},
   "outputs": [],
   "source": [
    "data_cols = data[0]\n",
    "data = data[1:]"
   ]
  },
  {
   "cell_type": "code",
   "execution_count": 29,
   "metadata": {},
   "outputs": [],
   "source": [
    "df = pd.DataFrame(data, columns=data_cols)"
   ]
  },
  {
   "cell_type": "code",
   "execution_count": 30,
   "metadata": {},
   "outputs": [
    {
     "data": {
      "text/html": [
       "<div>\n",
       "<style scoped>\n",
       "    .dataframe tbody tr th:only-of-type {\n",
       "        vertical-align: middle;\n",
       "    }\n",
       "\n",
       "    .dataframe tbody tr th {\n",
       "        vertical-align: top;\n",
       "    }\n",
       "\n",
       "    .dataframe thead th {\n",
       "        text-align: right;\n",
       "    }\n",
       "</style>\n",
       "<table border=\"1\" class=\"dataframe\">\n",
       "  <thead>\n",
       "    <tr style=\"text-align: right;\">\n",
       "      <th></th>\n",
       "      <th>Rank</th>\n",
       "      <th>Corporation</th>\n",
       "      <th>Stock ticker</th>\n",
       "      <th>Revenue $ millions</th>\n",
       "      <th>Profit $ millions</th>\n",
       "      <th>Employees</th>\n",
       "      <th>Headquarters</th>\n",
       "      <th>Industry</th>\n",
       "    </tr>\n",
       "  </thead>\n",
       "  <tbody>\n",
       "    <tr>\n",
       "      <th>0</th>\n",
       "      <td>1</td>\n",
       "      <td>Royal Dutch Shell</td>\n",
       "      <td>RDS.A</td>\n",
       "      <td>272,156</td>\n",
       "      <td>1,939</td>\n",
       "      <td>90,000</td>\n",
       "      <td>Shell Centre, London, UK, and The Hague, Nethe...</td>\n",
       "      <td>Energy\\n</td>\n",
       "    </tr>\n",
       "    <tr>\n",
       "      <th>1</th>\n",
       "      <td>2</td>\n",
       "      <td>Volkswagen</td>\n",
       "      <td>VLKAY</td>\n",
       "      <td>236,600</td>\n",
       "      <td>-1,520</td>\n",
       "      <td>610,076</td>\n",
       "      <td>Wolfsburg, Germany</td>\n",
       "      <td>Motor Vehicles &amp; Parts\\n</td>\n",
       "    </tr>\n",
       "    <tr>\n",
       "      <th>2</th>\n",
       "      <td>3</td>\n",
       "      <td>BP PLC</td>\n",
       "      <td>BP.L</td>\n",
       "      <td>183,000</td>\n",
       "      <td>4,100</td>\n",
       "      <td>74,500</td>\n",
       "      <td>London, UK</td>\n",
       "      <td>Energy\\n</td>\n",
       "    </tr>\n",
       "    <tr>\n",
       "      <th>3</th>\n",
       "      <td>4</td>\n",
       "      <td>Daimler</td>\n",
       "      <td>DDAIY</td>\n",
       "      <td>165,800</td>\n",
       "      <td>9,345</td>\n",
       "      <td>284,015</td>\n",
       "      <td>Stuttgart, Germany</td>\n",
       "      <td>Motor Vehicles &amp; Parts\\n</td>\n",
       "    </tr>\n",
       "    <tr>\n",
       "      <th>4</th>\n",
       "      <td>5</td>\n",
       "      <td>EXOR Group</td>\n",
       "      <td>EXOSF</td>\n",
       "      <td>152,591</td>\n",
       "      <td>825</td>\n",
       "      <td>303,247</td>\n",
       "      <td>Turin, Italy</td>\n",
       "      <td>Financials\\n</td>\n",
       "    </tr>\n",
       "    <tr>\n",
       "      <th>5</th>\n",
       "      <td>6</td>\n",
       "      <td>Total</td>\n",
       "      <td>TOT</td>\n",
       "      <td>143,421</td>\n",
       "      <td>5,087</td>\n",
       "      <td>96,019</td>\n",
       "      <td>Paris, France</td>\n",
       "      <td>Energy\\n</td>\n",
       "    </tr>\n",
       "    <tr>\n",
       "      <th>6</th>\n",
       "      <td>7</td>\n",
       "      <td>E.ON</td>\n",
       "      <td>EONGY</td>\n",
       "      <td>129,277</td>\n",
       "      <td>-7,764</td>\n",
       "      <td>56,490</td>\n",
       "      <td>Essen, Germany</td>\n",
       "      <td>Energy\\n</td>\n",
       "    </tr>\n",
       "    <tr>\n",
       "      <th>7</th>\n",
       "      <td>8</td>\n",
       "      <td>AXA</td>\n",
       "      <td>AXAHY</td>\n",
       "      <td>129,250</td>\n",
       "      <td>6,231</td>\n",
       "      <td>98,279</td>\n",
       "      <td>Paris, France</td>\n",
       "      <td>Financials\\n</td>\n",
       "    </tr>\n",
       "    <tr>\n",
       "      <th>8</th>\n",
       "      <td>9</td>\n",
       "      <td>Allianz</td>\n",
       "      <td>AZSEY</td>\n",
       "      <td>122,948</td>\n",
       "      <td>7,339</td>\n",
       "      <td>142,459</td>\n",
       "      <td>Munich, Germany</td>\n",
       "      <td>Financials\\n</td>\n",
       "    </tr>\n",
       "    <tr>\n",
       "      <th>9</th>\n",
       "      <td>10</td>\n",
       "      <td>BNP Paribas</td>\n",
       "      <td>BNPQY</td>\n",
       "      <td>111,531</td>\n",
       "      <td>7,426</td>\n",
       "      <td>181,551</td>\n",
       "      <td>Paris, France</td>\n",
       "      <td>Financials\\n</td>\n",
       "    </tr>\n",
       "  </tbody>\n",
       "</table>\n",
       "</div>"
      ],
      "text/plain": [
       "  Rank        Corporation Stock ticker Revenue $ millions Profit $ millions  \\\n",
       "0    1  Royal Dutch Shell        RDS.A            272,156             1,939   \n",
       "1    2         Volkswagen        VLKAY            236,600            -1,520   \n",
       "2    3             BP PLC         BP.L            183,000             4,100   \n",
       "3    4            Daimler        DDAIY            165,800             9,345   \n",
       "4    5         EXOR Group        EXOSF            152,591               825   \n",
       "5    6              Total          TOT            143,421             5,087   \n",
       "6    7               E.ON        EONGY            129,277            -7,764   \n",
       "7    8                AXA        AXAHY            129,250             6,231   \n",
       "8    9            Allianz        AZSEY            122,948             7,339   \n",
       "9   10        BNP Paribas        BNPQY            111,531             7,426   \n",
       "\n",
       "  Employees                                       Headquarters  \\\n",
       "0    90,000  Shell Centre, London, UK, and The Hague, Nethe...   \n",
       "1   610,076                                 Wolfsburg, Germany   \n",
       "2    74,500                                         London, UK   \n",
       "3   284,015                                 Stuttgart, Germany   \n",
       "4   303,247                                       Turin, Italy   \n",
       "5    96,019                                      Paris, France   \n",
       "6    56,490                                     Essen, Germany   \n",
       "7    98,279                                      Paris, France   \n",
       "8   142,459                                    Munich, Germany   \n",
       "9   181,551                                      Paris, France   \n",
       "\n",
       "                 Industry\\n  \n",
       "0                  Energy\\n  \n",
       "1  Motor Vehicles & Parts\\n  \n",
       "2                  Energy\\n  \n",
       "3  Motor Vehicles & Parts\\n  \n",
       "4              Financials\\n  \n",
       "5                  Energy\\n  \n",
       "6                  Energy\\n  \n",
       "7              Financials\\n  \n",
       "8              Financials\\n  \n",
       "9              Financials\\n  "
      ]
     },
     "execution_count": 30,
     "metadata": {},
     "output_type": "execute_result"
    }
   ],
   "source": [
    "df"
   ]
  },
  {
   "cell_type": "code",
   "execution_count": null,
   "metadata": {},
   "outputs": [],
   "source": [
    "df.to_excel(\"F:\\DSMP\\Pandas to Excel.xlsx\", index=None)"
   ]
  },
  {
   "cell_type": "code",
   "execution_count": null,
   "metadata": {},
   "outputs": [],
   "source": []
  }
 ],
 "metadata": {
  "kernelspec": {
   "display_name": "Python 3",
   "language": "python",
   "name": "python3"
  },
  "language_info": {
   "codemirror_mode": {
    "name": "ipython",
    "version": 3
   },
   "file_extension": ".py",
   "mimetype": "text/x-python",
   "name": "python",
   "nbconvert_exporter": "python",
   "pygments_lexer": "ipython3",
   "version": "3.7.1"
  }
 },
 "nbformat": 4,
 "nbformat_minor": 2
}
